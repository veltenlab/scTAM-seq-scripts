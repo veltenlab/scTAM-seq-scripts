{
 "cells": [
  {
   "cell_type": "code",
   "execution_count": 8,
   "id": "handmade-attribute",
   "metadata": {},
   "outputs": [],
   "source": [
    "import doubletdetection\n",
    "import pandas as pd\n",
    "import numpy as np"
   ]
  },
  {
   "cell_type": "code",
   "execution_count": 9,
   "id": "experienced-chinese",
   "metadata": {},
   "outputs": [],
   "source": [
    "sample = 'Sample5_80_percent'"
   ]
  },
  {
   "cell_type": "code",
   "execution_count": 11,
   "id": "quiet-character",
   "metadata": {},
   "outputs": [],
   "source": [
    "dat = pd.read_table('/users/lvelten/project/Methylome/analysis/missionbio/tapestri/' + sample + '/tsv/' + sample + '.barcode.cell.distribution.tsv',sep='\\t')\n",
    "#ampli_info = pd.read_table('/users/lvelten/project/Methylome/infos/BCells/Blood.Bone.Marrow.Amplicons.design.dropout.added.selected.tsv')\n",
    "#sel_amplis = ampli_info.index[np.logical_or(ampli_info['Type.of.amplicon']=='NonHhaI',ampli_info['Type.of.amplicon']=='CpG.always.meth.B')]\n",
    "#dat = dat[sel_amplis]"
   ]
  },
  {
   "cell_type": "code",
   "execution_count": 12,
   "id": "attractive-alfred",
   "metadata": {},
   "outputs": [
    {
     "data": {
      "application/vnd.jupyter.widget-view+json": {
       "model_id": "297b39aae50c4944b939f39ad9f713ae",
       "version_major": 2,
       "version_minor": 0
      },
      "text/plain": [
       "  0%|          | 0/25 [00:00<?, ?it/s]"
      ]
     },
     "metadata": {},
     "output_type": "display_data"
    }
   ],
   "source": [
    "clf = doubletdetection.BoostClassifier()\n",
    "labels = clf.fit(dat).predict()\n",
    "scores = clf.doublet_score()"
   ]
  },
  {
   "cell_type": "code",
   "execution_count": 13,
   "id": "institutional-karma",
   "metadata": {},
   "outputs": [],
   "source": [
    "to_write = pd.DataFrame({'Barcode':dat.index,'DoubletDetectionScore':scores,'DoubletDetectionLabel':labels})\n",
    "to_write.to_csv('/users/lvelten/project/Methylome/analysis/missionbio/tapestri/' + sample + '/tsv/doublet_scores_DoubletDetection.csv')"
   ]
  },
  {
   "cell_type": "code",
   "execution_count": 6,
   "id": "informal-hungarian",
   "metadata": {},
   "outputs": [],
   "source": [
    "import numpy as np"
   ]
  },
  {
   "cell_type": "code",
   "execution_count": 7,
   "id": "seventh-white",
   "metadata": {},
   "outputs": [
    {
     "ename": "FileNotFoundError",
     "evalue": "[Errno 2] No such file or directory: '/users/lvelten/project/Methylome/src/scTAM-seq-scripts/mscherer/solo_out/softmax_scores.npy'",
     "output_type": "error",
     "traceback": [
      "\u001b[0;31m---------------------------------------------------------------------------\u001b[0m",
      "\u001b[0;31mFileNotFoundError\u001b[0m                         Traceback (most recent call last)",
      "\u001b[0;32m<ipython-input-7-5960f98efc81>\u001b[0m in \u001b[0;36m<module>\u001b[0;34m\u001b[0m\n\u001b[0;32m----> 1\u001b[0;31m \u001b[0mfoo\u001b[0m \u001b[0;34m=\u001b[0m \u001b[0mnp\u001b[0m\u001b[0;34m.\u001b[0m\u001b[0mload\u001b[0m\u001b[0;34m(\u001b[0m\u001b[0;34m'/users/lvelten/project/Methylome/src/scTAM-seq-scripts/mscherer/solo_out/softmax_scores.npy'\u001b[0m\u001b[0;34m)\u001b[0m\u001b[0;34m\u001b[0m\u001b[0;34m\u001b[0m\u001b[0m\n\u001b[0m",
      "\u001b[0;32m/users/mscherer/software/anaconda3/envs/scrna/lib/python3.6/site-packages/numpy/lib/npyio.py\u001b[0m in \u001b[0;36mload\u001b[0;34m(file, mmap_mode, allow_pickle, fix_imports, encoding)\u001b[0m\n\u001b[1;32m    414\u001b[0m             \u001b[0mown_fid\u001b[0m \u001b[0;34m=\u001b[0m \u001b[0;32mFalse\u001b[0m\u001b[0;34m\u001b[0m\u001b[0;34m\u001b[0m\u001b[0m\n\u001b[1;32m    415\u001b[0m         \u001b[0;32melse\u001b[0m\u001b[0;34m:\u001b[0m\u001b[0;34m\u001b[0m\u001b[0;34m\u001b[0m\u001b[0m\n\u001b[0;32m--> 416\u001b[0;31m             \u001b[0mfid\u001b[0m \u001b[0;34m=\u001b[0m \u001b[0mstack\u001b[0m\u001b[0;34m.\u001b[0m\u001b[0menter_context\u001b[0m\u001b[0;34m(\u001b[0m\u001b[0mopen\u001b[0m\u001b[0;34m(\u001b[0m\u001b[0mos_fspath\u001b[0m\u001b[0;34m(\u001b[0m\u001b[0mfile\u001b[0m\u001b[0;34m)\u001b[0m\u001b[0;34m,\u001b[0m \u001b[0;34m\"rb\"\u001b[0m\u001b[0;34m)\u001b[0m\u001b[0;34m)\u001b[0m\u001b[0;34m\u001b[0m\u001b[0;34m\u001b[0m\u001b[0m\n\u001b[0m\u001b[1;32m    417\u001b[0m             \u001b[0mown_fid\u001b[0m \u001b[0;34m=\u001b[0m \u001b[0;32mTrue\u001b[0m\u001b[0;34m\u001b[0m\u001b[0;34m\u001b[0m\u001b[0m\n\u001b[1;32m    418\u001b[0m \u001b[0;34m\u001b[0m\u001b[0m\n",
      "\u001b[0;31mFileNotFoundError\u001b[0m: [Errno 2] No such file or directory: '/users/lvelten/project/Methylome/src/scTAM-seq-scripts/mscherer/solo_out/softmax_scores.npy'"
     ]
    }
   ],
   "source": [
    "foo = np.load('/users/lvelten/project/Methylome/src/scTAM-seq-scripts/mscherer/solo_out/softmax_scores.npy')"
   ]
  },
  {
   "cell_type": "code",
   "execution_count": null,
   "id": "covered-essex",
   "metadata": {},
   "outputs": [],
   "source": [
    "pd.DataFrame(foo).to_csv('/users/lvelten/project/Methylome/analysis/missionbio/tapestri/' + sample + '/tsv/doublet_scores_solo.csv')"
   ]
  },
  {
   "cell_type": "code",
   "execution_count": null,
   "id": "foster-tourism",
   "metadata": {},
   "outputs": [],
   "source": [
    "    t_cell_sergio = pd.read_csv(\"/users/lvelten/project/AML/gene_expression/analysis/our_samples/all_CT_labels.csv\",index_col=1)"
   ]
  },
  {
   "cell_type": "code",
   "execution_count": null,
   "id": "educational-viking",
   "metadata": {},
   "outputs": [],
   "source": [
    "import scanpy as sc\n",
    "adata = sc.read_10x_mtx(\"/users/lvelten/project/AML/gene_expression/data/P183/outs/filtered_feature_bc_matrix/\" ,\n",
    "                       var_names=\"gene_symbols\",\n",
    "                       gex_only=False)"
   ]
  },
  {
   "cell_type": "code",
   "execution_count": null,
   "id": "verbal-decrease",
   "metadata": {},
   "outputs": [],
   "source": [
    "    is_in = [n for n in adata.obs_names if n in t_cell_sergio.index]"
   ]
  },
  {
   "cell_type": "code",
   "execution_count": null,
   "id": "correct-defeat",
   "metadata": {},
   "outputs": [],
   "source": [
    "from os import listdir, environ, mkdir\n",
    "from os.path import isfile, join\n"
   ]
  },
  {
   "cell_type": "code",
   "execution_count": null,
   "id": "bright-investment",
   "metadata": {},
   "outputs": [],
   "source": [
    "mypath = \"/users/lvelten/project/AML/gene_expression/data/\"\n",
    "ana_dir = \"/users/lvelten/project/AML/gene_expression/analysis/our_samples/scanpy/\"\n",
    "all_samples = listdir(mypath)\n",
    "all_samples = [f for f in all_samples if not isfile(join(mypath, f))]\n",
    "all_samples = [f for f in all_samples if \"P\" in f]"
   ]
  },
  {
   "cell_type": "code",
   "execution_count": null,
   "id": "authentic-conflict",
   "metadata": {},
   "outputs": [],
   "source": [
    "skip_samples = ['P130']\n",
    "all_samples = [item for item in all_samples if item not in skip_samples]\n"
   ]
  },
  {
   "cell_type": "code",
   "execution_count": null,
   "id": "floating-checkout",
   "metadata": {},
   "outputs": [],
   "source": [
    "all_samples"
   ]
  }
 ],
 "metadata": {
  "kernelspec": {
   "display_name": "Python 3",
   "language": "python",
   "name": "python3"
  },
  "language_info": {
   "codemirror_mode": {
    "name": "ipython",
    "version": 3
   },
   "file_extension": ".py",
   "mimetype": "text/x-python",
   "name": "python",
   "nbconvert_exporter": "python",
   "pygments_lexer": "ipython3",
   "version": "3.6.12"
  }
 },
 "nbformat": 4,
 "nbformat_minor": 5
}
