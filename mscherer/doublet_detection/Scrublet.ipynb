{
 "cells": [
  {
   "cell_type": "code",
   "execution_count": 1,
   "id": "southern-boards",
   "metadata": {},
   "outputs": [],
   "source": [
    "import scanpy as sc\n",
    "import scrublet as scr\n",
    "import pandas as pd"
   ]
  },
  {
   "cell_type": "code",
   "execution_count": 2,
   "id": "coated-falls",
   "metadata": {},
   "outputs": [],
   "source": [
    "sample = 'BCells_Sample6_70_percent_good_performance'"
   ]
  },
  {
   "cell_type": "code",
   "execution_count": 3,
   "id": "dedicated-liechtenstein",
   "metadata": {},
   "outputs": [],
   "source": [
    "dat = pd.read_table('/users/lvelten/project/Methylome/analysis/missionbio/tapestri/' + sample + '/tsv/' + sample + '.barcode.cell.distribution.tsv',sep='\\t')\n",
    "adata = sc.AnnData(dat)"
   ]
  },
  {
   "cell_type": "code",
   "execution_count": 4,
   "id": "indirect-producer",
   "metadata": {},
   "outputs": [],
   "source": [
    "adata.write_h5ad('/users/lvelten/project/Methylome/analysis/missionbio/tapestri/' + sample + '/' + sample + '.h5ad')"
   ]
  },
  {
   "cell_type": "code",
   "execution_count": 5,
   "id": "bound-infrared",
   "metadata": {},
   "outputs": [],
   "source": [
    "res = scr.Scrublet(adata.X)"
   ]
  },
  {
   "cell_type": "code",
   "execution_count": 6,
   "id": "latin-driver",
   "metadata": {},
   "outputs": [
    {
     "name": "stdout",
     "output_type": "stream",
     "text": [
      "Preprocessing...\n",
      "Simulating doublets...\n",
      "Embedding transcriptomes using PCA...\n",
      "Calculating doublet scores...\n",
      "Automatically set threshold at doublet score = 0.56\n",
      "Detected doublet rate = 0.0%\n",
      "Estimated detectable doublet fraction = 0.3%\n",
      "Overall doublet rate:\n",
      "\tExpected   = 10.0%\n",
      "\tEstimated  = 11.1%\n",
      "Elapsed time: 1.0 seconds\n"
     ]
    }
   ],
   "source": [
    "doublet_scores, predicted_doublets = res.scrub_doublets(n_prin_comps=20)"
   ]
  },
  {
   "cell_type": "code",
   "execution_count": 7,
   "id": "spoken-excitement",
   "metadata": {},
   "outputs": [],
   "source": [
    "to_write = pd.DataFrame({'Barcode':adata.obs_names,'DoubletScore':doublet_scores,'PredictedDoublet':predicted_doublets})\n",
    "to_write.to_csv('/users/lvelten/project/Methylome/analysis/missionbio/tapestri/' + sample + '/tsv/doublet_scores.csv')"
   ]
  },
  {
   "cell_type": "code",
   "execution_count": 8,
   "id": "occupied-count",
   "metadata": {},
   "outputs": [
    {
     "data": {
      "text/plain": [
       "2655"
      ]
     },
     "execution_count": 8,
     "metadata": {},
     "output_type": "execute_result"
    }
   ],
   "source": [
    "len(adata.obs_names)"
   ]
  },
  {
   "cell_type": "code",
   "execution_count": 9,
   "id": "available-partner",
   "metadata": {},
   "outputs": [
    {
     "data": {
      "text/plain": [
       "1"
      ]
     },
     "execution_count": 9,
     "metadata": {},
     "output_type": "execute_result"
    }
   ],
   "source": [
    "predicted_doublets.sum()"
   ]
  }
 ],
 "metadata": {
  "kernelspec": {
   "display_name": "Python 3",
   "language": "python",
   "name": "python3"
  },
  "language_info": {
   "codemirror_mode": {
    "name": "ipython",
    "version": 3
   },
   "file_extension": ".py",
   "mimetype": "text/x-python",
   "name": "python",
   "nbconvert_exporter": "python",
   "pygments_lexer": "ipython3",
   "version": "3.6.12"
  }
 },
 "nbformat": 4,
 "nbformat_minor": 5
}
