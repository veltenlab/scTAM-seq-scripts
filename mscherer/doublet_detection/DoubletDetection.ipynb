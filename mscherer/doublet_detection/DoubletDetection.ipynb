{
 "cells": [
  {
   "cell_type": "code",
   "execution_count": 6,
   "id": "handmade-attribute",
   "metadata": {},
   "outputs": [],
   "source": [
    "import doubletdetection\n",
    "import pandas as pd"
   ]
  },
  {
   "cell_type": "code",
   "execution_count": 4,
   "id": "experienced-chinese",
   "metadata": {},
   "outputs": [],
   "source": [
    "sample = 'Sample3_default'"
   ]
  },
  {
   "cell_type": "code",
   "execution_count": 3,
   "id": "quiet-character",
   "metadata": {},
   "outputs": [],
   "source": [
    "dat = pd.read_table('/users/lvelten/project/Methylome/analysis/missionbio/tapestri/' + sample + '/tsv/' + sample + '.barcode.cell.distribution.tsv',sep='\\t')"
   ]
  },
  {
   "cell_type": "code",
   "execution_count": 4,
   "id": "attractive-alfred",
   "metadata": {},
   "outputs": [
    {
     "data": {
      "application/vnd.jupyter.widget-view+json": {
       "model_id": "1d426c2623a148b7b426d53b47bc3210",
       "version_major": 2,
       "version_minor": 0
      },
      "text/plain": [
       "  0%|          | 0/25 [00:00<?, ?it/s]"
      ]
     },
     "metadata": {},
     "output_type": "display_data"
    }
   ],
   "source": [
    "clf = doubletdetection.BoostClassifier()\n",
    "labels = clf.fit(dat).predict()\n",
    "scores = clf.doublet_score()"
   ]
  },
  {
   "cell_type": "code",
   "execution_count": 5,
   "id": "institutional-karma",
   "metadata": {},
   "outputs": [],
   "source": [
    "pd.DataFrame(scores).to_csv('/users/lvelten/project/Methylome/analysis/missionbio/tapestri/' + sample + '/tsv/doublet_scores_DoubletDetection.csv')"
   ]
  },
  {
   "cell_type": "code",
   "execution_count": 2,
   "id": "informal-hungarian",
   "metadata": {},
   "outputs": [],
   "source": [
    "import numpy as np"
   ]
  },
  {
   "cell_type": "code",
   "execution_count": 3,
   "id": "seventh-white",
   "metadata": {},
   "outputs": [],
   "source": [
    "foo = np.load('/users/lvelten/project/Methylome/src/scTAM-seq-scripts/mscherer/solo_out/softmax_scores.npy')"
   ]
  },
  {
   "cell_type": "code",
   "execution_count": 7,
   "id": "covered-essex",
   "metadata": {},
   "outputs": [],
   "source": [
    "pd.DataFrame(foo).to_csv('/users/lvelten/project/Methylome/analysis/missionbio/tapestri/' + sample + '/tsv/doublet_scores_solo.csv')"
   ]
  }
 ],
 "metadata": {
  "kernelspec": {
   "display_name": "Python 3",
   "language": "python",
   "name": "python3"
  },
  "language_info": {
   "codemirror_mode": {
    "name": "ipython",
    "version": 3
   },
   "file_extension": ".py",
   "mimetype": "text/x-python",
   "name": "python",
   "nbconvert_exporter": "python",
   "pygments_lexer": "ipython3",
   "version": "3.6.12"
  }
 },
 "nbformat": 4,
 "nbformat_minor": 5
}
